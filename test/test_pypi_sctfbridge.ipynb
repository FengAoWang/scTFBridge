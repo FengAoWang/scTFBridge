{
 "cells": [
  {
   "cell_type": "code",
   "id": "initial_id",
   "metadata": {
    "collapsed": true,
    "ExecuteTime": {
     "end_time": "2025-07-10T12:23:17.293604Z",
     "start_time": "2025-07-10T12:23:13.919860Z"
    }
   },
   "source": [
    "import torch\n",
    "import anndata\n",
    "import numpy as np\n",
    "import random\n",
    "from src.sctfbridge.model import scTFBridge\n",
    "import scanpy as sc\n",
    "\n",
    "def set_seed(seed):\n",
    "    import os\n",
    "    random.seed(seed)\n",
    "    np.random.seed(seed)\n",
    "    torch.manual_seed(seed)\n",
    "    torch.cuda.manual_seed(seed)\n",
    "    torch.cuda.manual_seed_all(seed)\n",
    "    os.environ['PYTHONHASHSEED'] = str(seed)\n",
    "    # torch.backends.cudnn.deterministic = True\n",
    "    torch.backends.cudnn.benchmark = False\n",
    "    torch.set_float32_matmul_precision('high')\n",
    "\n",
    "\n",
    "set_seed(3407)"
   ],
   "outputs": [
    {
     "name": "stderr",
     "output_type": "stream",
     "text": [
      " FutureWarning:/home/wfa/anaconda3/envs/new_env/lib/python3.12/site-packages/anndata/utils.py:434: Importing read_csv from `anndata` is deprecated. Import anndata.io.read_csv instead.\n",
      " FutureWarning:/home/wfa/anaconda3/envs/new_env/lib/python3.12/site-packages/anndata/utils.py:434: Importing read_excel from `anndata` is deprecated. Import anndata.io.read_excel instead.\n",
      " FutureWarning:/home/wfa/anaconda3/envs/new_env/lib/python3.12/site-packages/anndata/utils.py:434: Importing read_hdf from `anndata` is deprecated. Import anndata.io.read_hdf instead.\n",
      " FutureWarning:/home/wfa/anaconda3/envs/new_env/lib/python3.12/site-packages/anndata/utils.py:434: Importing read_loom from `anndata` is deprecated. Import anndata.io.read_loom instead.\n",
      " FutureWarning:/home/wfa/anaconda3/envs/new_env/lib/python3.12/site-packages/anndata/utils.py:434: Importing read_mtx from `anndata` is deprecated. Import anndata.io.read_mtx instead.\n",
      " FutureWarning:/home/wfa/anaconda3/envs/new_env/lib/python3.12/site-packages/anndata/utils.py:434: Importing read_text from `anndata` is deprecated. Import anndata.io.read_text instead.\n",
      " FutureWarning:/home/wfa/anaconda3/envs/new_env/lib/python3.12/site-packages/anndata/utils.py:434: Importing read_umi_tools from `anndata` is deprecated. Import anndata.io.read_umi_tools instead.\n"
     ]
    }
   ],
   "execution_count": 1
  },
  {
   "metadata": {
    "ExecuteTime": {
     "end_time": "2025-07-10T12:23:26.787512Z",
     "start_time": "2025-07-10T12:23:19.699088Z"
    }
   },
   "cell_type": "code",
   "source": [
    "dataset_name = 'BMMC'\n",
    "cell_key = 'cell_type'\n",
    "batch_key = 'batch'\n",
    "\n",
    "\n",
    "gex_adata = anndata.read_h5ad(f'/data2/wfa/project/single_cell_multimodal/data/filter_data/{dataset_name}/RNA_filter.h5ad')\n",
    "atac_adata = anndata.read_h5ad(f'/data2/wfa/project/single_cell_multimodal/data/filter_data/{dataset_name}/ATAC_filter.h5ad')\n",
    "TF_adata = anndata.read_h5ad(f'/data2/wfa/project/single_cell_multimodal/data/filter_data/{dataset_name}/TF_filter.h5ad')\n",
    "mask_path = f'/data2/wfa/project/single_cell_multimodal/data/filter_data/{dataset_name}/TF_binding/TF_binding.txt'"
   ],
   "id": "a06cf9c759738cec",
   "outputs": [],
   "execution_count": 2
  },
  {
   "metadata": {
    "ExecuteTime": {
     "end_time": "2025-07-10T12:23:33.189736Z",
     "start_time": "2025-07-10T12:23:30.748337Z"
    }
   },
   "cell_type": "code",
   "source": "new_model = scTFBridge.load('sctfbridge_BMMC_model', device=torch.device('cuda:7'))\n",
   "id": "8a73a091041818ea",
   "outputs": [
    {
     "name": "stdout",
     "output_type": "stream",
     "text": [
      "🚀 Loading model from sctfbridge_BMMC_model...\n",
      "  - Using device: cuda:7\n",
      "✅ Model loaded and ready for inference.\n"
     ]
    }
   ],
   "execution_count": 3
  },
  {
   "metadata": {},
   "cell_type": "code",
   "source": [
    "output = new_model.get_embeddings(\n",
    "    [gex_adata, atac_adata, TF_adata],\n",
    ")"
   ],
   "id": "7fad3a1d930075b4",
   "outputs": [],
   "execution_count": null
  },
  {
   "metadata": {},
   "cell_type": "code",
   "source": "gex_adata.obsm['rna_private'] = output['RNA_private_representations']\n",
   "id": "691ab546e0c2d579",
   "outputs": [],
   "execution_count": null
  },
  {
   "metadata": {},
   "cell_type": "code",
   "source": [
    "import pandas as pd\n",
    "batches_info = gex_adata.obs['batch'].values.tolist()\n",
    "\n",
    "one_hot_encoded_batches = pd.get_dummies(batches_info, prefix='batch', dtype=float)"
   ],
   "id": "e03e0d1a8aa0580d",
   "outputs": [],
   "execution_count": null
  },
  {
   "metadata": {},
   "cell_type": "code",
   "source": [
    "from torch.utils.data import Dataset\n",
    "class scOmicsDataset(Dataset):\n",
    "    def __init__(self,\n",
    "                 input_data,\n",
    "                 batch_info: pd.DataFrame):\n",
    "        self.input_tensor = torch.Tensor(input_data)\n",
    "        self.batch_info = torch.Tensor(batch_info.to_numpy())\n",
    "\n",
    "    def __len__(self):\n",
    "        return self.input_tensor.shape[0]\n",
    "\n",
    "    def __getitem__(self, idx):\n",
    "        return self.input_tensor[idx, :], self.batch_info[idx, :]"
   ],
   "id": "9b75b21f1a79ac05",
   "outputs": [],
   "execution_count": null
  },
  {
   "metadata": {},
   "cell_type": "code",
   "source": [
    "rna_private_dataset = scOmicsDataset(gex_adata.obsm['rna_private'], one_hot_encoded_batches)\n",
    "data_loader = torch.utils.data.DataLoader(rna_private_dataset, shuffle=False, batch_size=128)"
   ],
   "id": "8dc17628f1d4e2b6",
   "outputs": [],
   "execution_count": null
  },
  {
   "metadata": {},
   "cell_type": "code",
   "source": [
    "all_recon = []\n",
    "device = new_model.device\n",
    "with torch.no_grad():\n",
    "    for data in data_loader:\n",
    "        rna_private, batch_data = data\n",
    "        rna_private = rna_private.to(device)\n",
    "        batch_data = batch_data.to(device)\n",
    "        rna_recon = new_model.rna_generation_from_rna_private(rna_private, batch_data)\n",
    "        all_recon.append(rna_recon)\n",
    "all_recon = torch.cat(all_recon, dim=0).cpu().numpy()"
   ],
   "id": "9b5ce1601b98bced",
   "outputs": [],
   "execution_count": null
  },
  {
   "metadata": {},
   "cell_type": "code",
   "source": "gex_adata.layers['rna_recon_from_rna_private'] = all_recon",
   "id": "50b46ce4de5a1a80",
   "outputs": [],
   "execution_count": null
  },
  {
   "metadata": {},
   "cell_type": "code",
   "source": [
    "sc.pp.neighbors(gex_adata, use_rep='rna_private')\n",
    "sc.tl.umap(gex_adata)\n",
    "sc.pl.umap(gex_adata,\n",
    "           color=['cell_type'])"
   ],
   "id": "9ee9cb102b7a3bfe",
   "outputs": [],
   "execution_count": null
  },
  {
   "metadata": {},
   "cell_type": "code",
   "source": [
    "new_model.batch_key = 'batch'\n",
    "gex_adata.layers['rna_recon'] = new_model.predict_cross_omics(\n",
    "    atac_adata,\n",
    "    'RNA',\n",
    "    device=torch.device('cuda:6')\n",
    ")"
   ],
   "id": "6e4e78e6b11c5ed9",
   "outputs": [],
   "execution_count": null
  },
  {
   "metadata": {},
   "cell_type": "code",
   "source": [
    "recon_adata = sc.AnnData(X=gex_adata.layers['rna_recon_from_rna_private'],\n",
    "                         obs=gex_adata.obs.copy(),\n",
    "                         var=gex_adata.var.copy())"
   ],
   "id": "df18f371e3e5f5eb",
   "outputs": [],
   "execution_count": null
  },
  {
   "metadata": {},
   "cell_type": "code",
   "source": [
    "sc.tl.rank_genes_groups(gex_adata, groupby='cell_type', method='t-test')\n",
    "# 提取每个细胞类型的前5个marker基因用于绘图\n",
    "marker_genes_dict = {\n",
    "    cell_type: gex_adata.uns['rank_genes_groups']['names'][cell_type][:3]\n",
    "    for cell_type in gex_adata.obs['cell_type'].cat.categories\n",
    "}\n",
    "\n",
    "# --- 绘制热图 ---\n",
    "# 原始数据的热图\n",
    "print(\"--- 原始数据的Marker基因表达 (Heatmap) ---\")\n",
    "sc.pl.matrixplot(gex_adata,\n",
    "                  marker_genes_dict,\n",
    "                  groupby='cell_type',\n",
    "                  standard_scale='var', # <-- 按基因（变量）进行Z-score标准化\n",
    "                  cmap='bwr',           # <-- 使用蓝-白-红色图\n",
    "                  show=True)\n",
    "# 重构数据的热图\n",
    "print(\"\\n--- 重构数据的Marker基因表达 (Heatmap) ---\")\n",
    "sc.pl.matrixplot(recon_adata,\n",
    "                  marker_genes_dict,\n",
    "                  groupby='cell_type',\n",
    "                  standard_scale='var', # <-- 按基因（变量）进行Z-score标准化\n",
    "                  cmap='bwr',           # <-- 使用蓝-白-红色图\n",
    "                  show=True)"
   ],
   "id": "b91dc14f07f9a913",
   "outputs": [],
   "execution_count": null
  },
  {
   "metadata": {},
   "cell_type": "code",
   "source": [
    "import itertools\n",
    "\n",
    "# 从字典的值中提取所有基因，并放入一个列表中\n",
    "all_marker_genes = list(itertools.chain.from_iterable(marker_genes_dict.values()))\n",
    "\n",
    "# 获取唯一的基因列表\n",
    "unique_marker_genes = list(set(all_marker_genes))\n",
    "gex_adata = gex_adata[:, unique_marker_genes].copy()\n",
    "\n",
    "# 打印新的AnnData对象的信息，以确认基因数量已减少\n",
    "print(\"\\n过滤后的gex_adata信息：\")\n",
    "print(gex_adata)"
   ],
   "id": "efa7226d98a3fcba",
   "outputs": [],
   "execution_count": null
  },
  {
   "metadata": {},
   "cell_type": "code",
   "source": "gex_adata.layers",
   "id": "e54b121e39934bc4",
   "outputs": [],
   "execution_count": null
  },
  {
   "metadata": {},
   "cell_type": "code",
   "source": "gex_adata.uns['rank_genes_groups']['names']",
   "id": "654824da1acd4f3f",
   "outputs": [],
   "execution_count": null
  },
  {
   "metadata": {},
   "cell_type": "code",
   "source": "gex_adata.write('/data2/wfa/project/single_cell_multimodal/data/filter_data/BMMC/RNA_recon.h5ad')\n",
   "id": "8f17832dbe434d9",
   "outputs": [],
   "execution_count": null
  },
  {
   "metadata": {},
   "cell_type": "code",
   "source": [
    "def calculate_pcc_torch(x, y):\n",
    "    \"\"\"\n",
    "    Calculates the Pearson Correlation Coefficient between two PyTorch tensors.\n",
    "\n",
    "    Args:\n",
    "        x (torch.Tensor): The first tensor.\n",
    "        y (torch.Tensor): The second tensor.\n",
    "\n",
    "    Returns:\n",
    "        torch.Tensor: The Pearson Correlation Coefficient.\n",
    "    \"\"\"\n",
    "    if x.ndim > 1:\n",
    "        x = x.squeeze()\n",
    "    if y.ndim > 1:\n",
    "        y = y.squeeze()\n",
    "\n",
    "    if x.shape != y.shape:\n",
    "        raise ValueError(\"Input tensors must have the same shape\")\n",
    "\n",
    "    vx = x - torch.mean(x)\n",
    "    vy = y - torch.mean(y)\n",
    "\n",
    "    numerator = torch.sum(vx * vy)\n",
    "    denominator = torch.sqrt(torch.sum(vx ** 2)) * torch.sqrt(torch.sum(vy ** 2))\n",
    "\n",
    "    if denominator == 0:\n",
    "        # Return 0 if the standard deviation of either variable is 0\n",
    "        # (e.g., if all values in a tensor are the same)\n",
    "        # This avoids division by zero.\n",
    "        # Other conventions might return NaN or raise an error.\n",
    "        return torch.tensor(0.0)\n",
    "\n",
    "    return numerator / denominator\n",
    "\n",
    "def calculate_r_squared_torch(y_true, y_pred):\n",
    "    # 计算总平方和 (TSS)\n",
    "    tss = torch.sum((y_true - torch.mean(y_true, axis=0)) ** 2, axis=0)\n",
    "    # 计算残差平方和 (RSS)\n",
    "    rss = torch.sum((y_true - y_pred) ** 2, axis=0)\n",
    "    # 计算R平方值\n",
    "    r_squared = 1 - (rss / tss)\n",
    "    return r_squared\n",
    "\n",
    "def calculate_pcc_per_cell(X, Y):\n",
    "    \"\"\"\n",
    "    Calculates the Pearson Correlation Coefficient for each corresponding row (cell)\n",
    "    between two matrices.\n",
    "\n",
    "    Args:\n",
    "        X (torch.Tensor): The first matrix (cells x genes).\n",
    "        Y (torch.Tensor): The second matrix (cells x genes).\n",
    "\n",
    "    Returns:\n",
    "        torch.Tensor: A 1D tensor where each element is the PCC for the\n",
    "                      corresponding row (cell).\n",
    "    \"\"\"\n",
    "    if X.shape != Y.shape:\n",
    "        raise ValueError(\"Input matrices must have the same shape\")\n",
    "\n",
    "    # Calculate mean for each row (cell), across all columns (genes)\n",
    "    # The `dim=1` argument is the key change here.\n",
    "    # `keepdim=True` makes broadcasting easier in the next step.\n",
    "    mean_x = torch.mean(X, dim=1, keepdim=True)\n",
    "    mean_y = torch.mean(Y, dim=1, keepdim=True)\n",
    "\n",
    "    # Center the matrices by subtracting the row means\n",
    "    vx = X - mean_x\n",
    "    vy = Y - mean_y\n",
    "\n",
    "    # Calculate the numerator of the PCC formula for each row\n",
    "    # We sum the products along the 'gene' dimension (dim=1)\n",
    "    numerator = torch.sum(vx * vy, dim=1)\n",
    "\n",
    "    # Calculate the denominator for each row\n",
    "    denominator = torch.sqrt(torch.sum(vx ** 2, dim=1)) * torch.sqrt(torch.sum(vy ** 2, dim=1))\n",
    "\n",
    "    # Add a small epsilon to the denominator to avoid division by zero\n",
    "    epsilon = 1e-8\n",
    "    pcc = numerator / (denominator + epsilon)\n",
    "\n",
    "    return pcc\n",
    "\n",
    "import numpy as np\n",
    "from scipy.spatial.distance import pdist, squareform\n",
    "from scipy.stats import pearsonr\n",
    "\n",
    "def mantel_test(dist_x, dist_y, perms=1000):\n",
    "    \"\"\"\n",
    "    Performs a Mantel test between two distance matrices.\n",
    "    \"\"\"\n",
    "    # 展平上三角（不含对角线）\n",
    "    v_x = dist_x[np.triu_indices_from(dist_x, k=1)]\n",
    "    v_y = dist_y[np.triu_indices_from(dist_y, k=1)]\n",
    "\n",
    "    # 计算观测到的相关性\n",
    "    observed_corr, _ = pearsonr(v_x, v_y)\n",
    "\n",
    "    # 置换检验来评估显著性\n",
    "    perm_corrs = []\n",
    "    for _ in range(perms):\n",
    "        # 随机打乱其中一个向量\n",
    "        shuffled_v_y = np.random.permutation(v_y)\n",
    "        perm_corrs.append(pearsonr(v_x, shuffled_v_y)[0])\n",
    "\n",
    "    p_value = (np.sum(np.abs(perm_corrs) >= np.abs(observed_corr)) + 1) / (perms + 1)\n",
    "\n",
    "    return observed_corr, p_value"
   ],
   "id": "14306d9488010778",
   "outputs": [],
   "execution_count": null
  },
  {
   "metadata": {},
   "cell_type": "code",
   "source": [
    "import pandas as pd\n",
    "import torch\n",
    "from sklearn.preprocessing import StandardScaler # <-- 导入 StandardScaler\n",
    "from sklearn.preprocessing import MinMaxScaler # <-- 导入 MinMaxScaler\n",
    "\n",
    "results_list = []\n",
    "\n",
    "# 创建一个 StandardScaler 的实例\n",
    "# 在循环外部创建，可以在不同细胞类型间重用，但每次都用 .fit_transform() 会重新拟合\n",
    "scaler = StandardScaler()\n",
    "\n",
    "for cell_type in gex_adata.obs['cell_type'].unique():\n",
    "    # 提取特定细胞类型的数据\n",
    "    gex_adata_cell_type = gex_adata[gex_adata.obs['cell_type'] == cell_type].copy()\n",
    "\n",
    "    # 准备计算所需的数据\n",
    "    actual_rna = gex_adata_cell_type.X.toarray()\n",
    "    reconstructed_rna = gex_adata_cell_type.layers['rna_recon_from_rna_private']\n",
    "\n",
    "    actual_rna = scaler.fit_transform(actual_rna)\n",
    "    reconstructed_rna = scaler.fit_transform(reconstructed_rna)\n",
    "\n",
    "\n",
    "    # 使用标准化后的数据计算 PCC\n",
    "    # average_pcc = calculate_pcc_torch(torch.from_numpy(actual_rna), torch.from_numpy(reconstructed_rna))\n",
    "    average_pcc, _ = mantel_test(actual_rna, reconstructed_rna)\n",
    "    # pcc_value = average_pcc.mean(dim=0).item()\n",
    "    pcc_value = average_pcc\n",
    "    cell_count = gex_adata_cell_type.shape[0]\n",
    "\n",
    "    # 打印实时结果 (此步骤可选)\n",
    "    print(f'cell type: {cell_type}, pcc: {pcc_value:.4f}, cell num: {cell_count}')\n",
    "\n",
    "    # 2. 将本次循环的结果存为一个字典\n",
    "    result_row = {\n",
    "        'cell_type': cell_type,\n",
    "        'pcc': pcc_value,\n",
    "        'cell_num': cell_count\n",
    "    }\n",
    "\n",
    "    # 3. 将该字典追加到列表中\n",
    "    results_list.append(result_row)\n",
    "\n",
    "# 4. 循环结束后，使用列表一次性创建 DataFrame\n",
    "results_df = pd.DataFrame(results_list)\n",
    "\n",
    "# 5. 显示最终的 DataFrame\n",
    "print(\"\\n--- 所有结果已汇总到 DataFrame ---\")\n",
    "print(results_df)"
   ],
   "id": "391630d9451562e2",
   "outputs": [],
   "execution_count": null
  },
  {
   "metadata": {},
   "cell_type": "code",
   "source": [
    "actual_rna = gex_adata.X.toarray()\n",
    "reconstructed_rna = gex_adata.layers['rna_recon_from_rna_private']\n",
    "\n",
    "actual_rna = scaler.fit_transform(actual_rna)\n",
    "reconstructed_rna = scaler.fit_transform(reconstructed_rna)\n",
    "\n",
    "all_pcc = calculate_pcc_torch(torch.from_numpy(actual_rna), torch.from_numpy(reconstructed_rna))\n",
    "print(all_pcc.mean(dim=0).item())"
   ],
   "id": "a5f080f2dc1691ab",
   "outputs": [],
   "execution_count": null
  },
  {
   "metadata": {},
   "cell_type": "code",
   "source": [
    "# The list of cell types you want to exclude\n",
    "exclude_cell_types = ['Erythroblast', 'Normoblast']\n",
    "\n",
    "# Use .isin() with the ~ operator to select cells NOT in the list\n",
    "gex_adata_others = gex_adata[~gex_adata.obs['cell_type'].isin(exclude_cell_types)].copy()\n",
    "actual_rna = gex_adata_others.X.toarray()\n",
    "reconstructed_rna = gex_adata_others.layers['rna_recon_from_rna_private']\n",
    "\n",
    "all_pcc = calculate_pcc_per_cell(torch.from_numpy(actual_rna), torch.from_numpy(reconstructed_rna))\n",
    "print(all_pcc.mean(dim=0).item())"
   ],
   "id": "a8be0fd30e26b4bd",
   "outputs": [],
   "execution_count": null
  },
  {
   "metadata": {
    "ExecuteTime": {
     "end_time": "2025-07-10T12:23:44.456340Z",
     "start_time": "2025-07-10T12:23:44.447656Z"
    }
   },
   "cell_type": "code",
   "source": "from sctfbridge.model import explain_DisLatent",
   "id": "b7074234f7d1cd25",
   "outputs": [],
   "execution_count": 4
  },
  {
   "metadata": {},
   "cell_type": "code",
   "source": [
    "output = explain_DisLatent(\n",
    "    new_model,\n",
    "    [gex_adata, atac_adata, TF_adata],\n",
    "    'RNA',\n",
    "    'Erythroblast',\n",
    "    'cell_type',\n",
    "    'batch',\n",
    "    torch.device(6),\n",
    ")"
   ],
   "id": "555341a0392d6bc3",
   "outputs": [],
   "execution_count": null
  },
  {
   "metadata": {},
   "cell_type": "code",
   "source": "output",
   "id": "fe070c5d3579510c",
   "outputs": [],
   "execution_count": null
  },
  {
   "metadata": {},
   "cell_type": "code",
   "source": [
    "Normoblast_output = explain_DisLatent(\n",
    "    new_model,\n",
    "    [gex_adata, atac_adata, TF_adata],\n",
    "    'RNA',\n",
    "    'Normoblast',\n",
    "    'cell_type',\n",
    "    'batch',\n",
    "    torch.device(6),\n",
    ")"
   ],
   "id": "b3987b3c72653f71",
   "outputs": [],
   "execution_count": null
  },
  {
   "metadata": {},
   "cell_type": "code",
   "source": "Normoblast_output",
   "id": "65ef8ca4e4fe59bb",
   "outputs": [],
   "execution_count": null
  },
  {
   "metadata": {
    "ExecuteTime": {
     "end_time": "2025-07-10T12:27:32.761009Z",
     "start_time": "2025-07-10T12:23:47.220673Z"
    }
   },
   "cell_type": "code",
   "source": [
    "CD4_T_naive = explain_DisLatent(\n",
    "    new_model,\n",
    "    [gex_adata, atac_adata, TF_adata],\n",
    "    'RNA',\n",
    "    'CD4+ T naive',\n",
    "    'cell_type',\n",
    "    'batch',\n",
    "    torch.device(6),\n",
    ")"
   ],
   "id": "db6aa25009e31d3d",
   "outputs": [
    {
     "name": "stdout",
     "output_type": "stream",
     "text": [
      "🔍 Starting latent space contribution analysis for 'RNA' omics and cell type: 'CD4+ T naive'...\n",
      "  - Using device: cuda:6\n",
      "Calculating RNA private-share contribution value for: CD4+ T naive\n",
      "  - Preparing data loaders...\n",
      "  - Initializing explanation model and background samples...\n"
     ]
    },
    {
     "name": "stderr",
     "output_type": "stream",
     "text": [
      "  0%|          | 1/880 [00:00<04:57,  2.96batch/s]\n",
      "  1%|          | 9/880 [00:00<00:19, 44.94batch/s]\n"
     ]
    },
    {
     "name": "stdout",
     "output_type": "stream",
     "text": [
      "  - Calculating private vs. shared contributions for 3000 features. This may take a while...\n",
      "✅ Latent space contribution analysis complete for 'RNA' omics.\n"
     ]
    }
   ],
   "execution_count": 5
  },
  {
   "metadata": {
    "ExecuteTime": {
     "end_time": "2025-07-10T12:28:09.534469Z",
     "start_time": "2025-07-10T12:28:09.520168Z"
    }
   },
   "cell_type": "code",
   "source": "CD4_T_naive",
   "id": "922f4e872903dc21",
   "outputs": [
    {
     "data": {
      "text/plain": [
       "     feature_name  private_embedding_contribute  share_embedding_contribute\n",
       "0        C1orf159                      0.734662                    0.265338\n",
       "1        SLC35E2B                      0.661319                    0.338681\n",
       "2        SLC35E2A                      0.700663                    0.299337\n",
       "3          CEP104                      0.621083                    0.378917\n",
       "4        C1orf174                      0.740358                    0.259642\n",
       "...           ...                           ...                         ...\n",
       "2995       MT-ND4                      0.613493                    0.386507\n",
       "2996       MT-ND5                      0.690819                    0.309181\n",
       "2997       MT-ND6                      0.633150                    0.366850\n",
       "2998       MT-CYB                      0.741963                    0.258037\n",
       "2999   AL592183.1                      0.666113                    0.333887\n",
       "\n",
       "[3000 rows x 3 columns]"
      ],
      "text/html": [
       "<div>\n",
       "<style scoped>\n",
       "    .dataframe tbody tr th:only-of-type {\n",
       "        vertical-align: middle;\n",
       "    }\n",
       "\n",
       "    .dataframe tbody tr th {\n",
       "        vertical-align: top;\n",
       "    }\n",
       "\n",
       "    .dataframe thead th {\n",
       "        text-align: right;\n",
       "    }\n",
       "</style>\n",
       "<table border=\"1\" class=\"dataframe\">\n",
       "  <thead>\n",
       "    <tr style=\"text-align: right;\">\n",
       "      <th></th>\n",
       "      <th>feature_name</th>\n",
       "      <th>private_embedding_contribute</th>\n",
       "      <th>share_embedding_contribute</th>\n",
       "    </tr>\n",
       "  </thead>\n",
       "  <tbody>\n",
       "    <tr>\n",
       "      <th>0</th>\n",
       "      <td>C1orf159</td>\n",
       "      <td>0.734662</td>\n",
       "      <td>0.265338</td>\n",
       "    </tr>\n",
       "    <tr>\n",
       "      <th>1</th>\n",
       "      <td>SLC35E2B</td>\n",
       "      <td>0.661319</td>\n",
       "      <td>0.338681</td>\n",
       "    </tr>\n",
       "    <tr>\n",
       "      <th>2</th>\n",
       "      <td>SLC35E2A</td>\n",
       "      <td>0.700663</td>\n",
       "      <td>0.299337</td>\n",
       "    </tr>\n",
       "    <tr>\n",
       "      <th>3</th>\n",
       "      <td>CEP104</td>\n",
       "      <td>0.621083</td>\n",
       "      <td>0.378917</td>\n",
       "    </tr>\n",
       "    <tr>\n",
       "      <th>4</th>\n",
       "      <td>C1orf174</td>\n",
       "      <td>0.740358</td>\n",
       "      <td>0.259642</td>\n",
       "    </tr>\n",
       "    <tr>\n",
       "      <th>...</th>\n",
       "      <td>...</td>\n",
       "      <td>...</td>\n",
       "      <td>...</td>\n",
       "    </tr>\n",
       "    <tr>\n",
       "      <th>2995</th>\n",
       "      <td>MT-ND4</td>\n",
       "      <td>0.613493</td>\n",
       "      <td>0.386507</td>\n",
       "    </tr>\n",
       "    <tr>\n",
       "      <th>2996</th>\n",
       "      <td>MT-ND5</td>\n",
       "      <td>0.690819</td>\n",
       "      <td>0.309181</td>\n",
       "    </tr>\n",
       "    <tr>\n",
       "      <th>2997</th>\n",
       "      <td>MT-ND6</td>\n",
       "      <td>0.633150</td>\n",
       "      <td>0.366850</td>\n",
       "    </tr>\n",
       "    <tr>\n",
       "      <th>2998</th>\n",
       "      <td>MT-CYB</td>\n",
       "      <td>0.741963</td>\n",
       "      <td>0.258037</td>\n",
       "    </tr>\n",
       "    <tr>\n",
       "      <th>2999</th>\n",
       "      <td>AL592183.1</td>\n",
       "      <td>0.666113</td>\n",
       "      <td>0.333887</td>\n",
       "    </tr>\n",
       "  </tbody>\n",
       "</table>\n",
       "<p>3000 rows × 3 columns</p>\n",
       "</div>"
      ]
     },
     "execution_count": 6,
     "metadata": {},
     "output_type": "execute_result"
    }
   ],
   "execution_count": 6
  }
 ],
 "metadata": {
  "kernelspec": {
   "display_name": "Python 3",
   "language": "python",
   "name": "python3"
  },
  "language_info": {
   "codemirror_mode": {
    "name": "ipython",
    "version": 2
   },
   "file_extension": ".py",
   "mimetype": "text/x-python",
   "name": "python",
   "nbconvert_exporter": "python",
   "pygments_lexer": "ipython2",
   "version": "2.7.6"
  }
 },
 "nbformat": 4,
 "nbformat_minor": 5
}
