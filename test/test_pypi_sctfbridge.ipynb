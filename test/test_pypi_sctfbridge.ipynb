{
 "cells": [
  {
   "cell_type": "code",
   "id": "initial_id",
   "metadata": {
    "collapsed": true,
    "ExecuteTime": {
     "end_time": "2025-07-09T03:19:28.232461Z",
     "start_time": "2025-07-09T03:19:24.740530Z"
    }
   },
   "source": [
    "import torch\n",
    "import anndata\n",
    "import numpy as np\n",
    "import random\n",
    "from sctfbridge.model import scTFBridge\n",
    "\n",
    "def set_seed(seed):\n",
    "    import os\n",
    "    random.seed(seed)\n",
    "    np.random.seed(seed)\n",
    "    torch.manual_seed(seed)\n",
    "    torch.cuda.manual_seed(seed)\n",
    "    torch.cuda.manual_seed_all(seed)\n",
    "    os.environ['PYTHONHASHSEED'] = str(seed)\n",
    "    # torch.backends.cudnn.deterministic = True\n",
    "    torch.backends.cudnn.benchmark = False\n",
    "    torch.set_float32_matmul_precision('high')\n",
    "\n",
    "\n",
    "set_seed(3407)"
   ],
   "outputs": [
    {
     "name": "stderr",
     "output_type": "stream",
     "text": [
      " FutureWarning:/home/wfa/anaconda3/envs/new_env/lib/python3.12/site-packages/anndata/utils.py:434: Importing read_csv from `anndata` is deprecated. Import anndata.io.read_csv instead.\n",
      " FutureWarning:/home/wfa/anaconda3/envs/new_env/lib/python3.12/site-packages/anndata/utils.py:434: Importing read_excel from `anndata` is deprecated. Import anndata.io.read_excel instead.\n",
      " FutureWarning:/home/wfa/anaconda3/envs/new_env/lib/python3.12/site-packages/anndata/utils.py:434: Importing read_hdf from `anndata` is deprecated. Import anndata.io.read_hdf instead.\n",
      " FutureWarning:/home/wfa/anaconda3/envs/new_env/lib/python3.12/site-packages/anndata/utils.py:434: Importing read_loom from `anndata` is deprecated. Import anndata.io.read_loom instead.\n",
      " FutureWarning:/home/wfa/anaconda3/envs/new_env/lib/python3.12/site-packages/anndata/utils.py:434: Importing read_mtx from `anndata` is deprecated. Import anndata.io.read_mtx instead.\n",
      " FutureWarning:/home/wfa/anaconda3/envs/new_env/lib/python3.12/site-packages/anndata/utils.py:434: Importing read_text from `anndata` is deprecated. Import anndata.io.read_text instead.\n",
      " FutureWarning:/home/wfa/anaconda3/envs/new_env/lib/python3.12/site-packages/anndata/utils.py:434: Importing read_umi_tools from `anndata` is deprecated. Import anndata.io.read_umi_tools instead.\n"
     ]
    }
   ],
   "execution_count": 1
  },
  {
   "metadata": {
    "ExecuteTime": {
     "end_time": "2025-07-09T04:30:07.140975Z",
     "start_time": "2025-07-09T04:18:44.686806Z"
    }
   },
   "cell_type": "code",
   "source": [
    "from sctfbridge.utils.data_processing import adata_multiomics_processing, preload_TF_binding\n",
    "import anndata\n",
    "\n",
    "\n",
    "dataset = 'human_PBMC'\n",
    "output_path = f'filter_data/{dataset}/'\n",
    "# rna_adata = anndata.read_h5ad(f'filter_data/{dataset}/GSE243917_genesXcells_ALL_batch.h5ad')\n",
    "# atac_data = anndata.read_h5ad(f'filter_data/{dataset}/GSE243917_peaksXcells_ALL_batch.h5ad')\n",
    "\n",
    "rna_adata = anndata.read_h5ad(f'/data2/wfa/project/single_cell_multimodal/data/filter_data/{dataset}/10x-Multiome-Pbmc10k-RNA.h5ad')\n",
    "atac_data = anndata.read_h5ad(f'/data2/wfa/project/single_cell_multimodal/data/filter_data/{dataset}/10x-Multiome-Pbmc10k-ATAC.h5ad')\n",
    "\n",
    "TF_name = '/data2/wfa/project/single_cell_multimodal/data/GRN/data_bulk/TFName.txt'\n",
    "TF_name = open(TF_name, 'r').readlines()\n",
    "\n",
    "for i in range(len(TF_name)):\n",
    "    TF_name[i] = TF_name[i].replace('\\n', '')\n",
    "\n",
    "\n",
    "adata_multiomics_processing([rna_adata, atac_data],\n",
    "                            output_path,\n",
    "                            TF_name,\n",
    "                            3000,\n",
    "                            0.01)\n",
    "\n",
    "rna_adata = anndata.read_h5ad(f'filter_data/{dataset}/RNA_filter.h5ad')\n",
    "\n",
    "GRNdir = '/data2/wfa/project/single_cell_multimodal/data/GRN/data_bulk/'\n",
    "tf_binding_output_path = f'filter_data/{dataset}/TF_binding/'\n",
    "preload_TF_binding(output_path, GRNdir, tf_binding_output_path)"
   ],
   "id": "f4f51086c1debd82",
   "outputs": [
    {
     "name": "stderr",
     "output_type": "stream",
     "text": [
      " ImplicitModificationWarning:/home/wfa/anaconda3/envs/new_env/lib/python3.12/site-packages/scanpy/preprocessing/_simple.py:170: Trying to modify attribute `.obs` of view, initializing view as actual.\n",
      " FutureWarning:/home/wfa/anaconda3/envs/new_env/lib/python3.12/site-packages/episcanpy/preprocessing/_scanpy_fct.py:145: The specified parameters ('min_counts', 'min_cells', 'max_counts', 'max_cells', 'inplace', 'copy') are no longer positional. Please specify them like `min_counts=None`\n"
     ]
    },
    {
     "name": "stdout",
     "output_type": "stream",
     "text": [
      "finish data pre-processing\n",
      "filter_data/human_PBMC/TF_binding/Region.bed\n",
      "                                0\n",
      "0            chr1\\t816881\\t817647\n",
      "1            chr1\\t819912\\t823500\n",
      "2            chr1\\t826612\\t827979\n",
      "3            chr1\\t841243\\t843059\n",
      "4            chr1\\t843966\\t845044\n",
      "...                           ...\n",
      "79358  chrX\\t155611306\\t155613309\n",
      "79359  chrX\\t155632352\\t155633090\n",
      "79360  chrX\\t155820122\\t155820523\n",
      "79361  chrX\\t155841301\\t155841724\n",
      "79362  chrX\\t155880572\\t155882091\n",
      "\n",
      "[79363 rows x 1 columns]\n",
      "filter_data/human_PBMC/TF_binding/Region.bed\n",
      "Index(['chr1:816881-817647', 'chr1:819912-823500', 'chr1:826612-827979',\n",
      "       'chr1:841243-843059', 'chr1:843966-845044', 'chr1:857960-858997',\n",
      "       'chr1:865576-866044', 'chr1:869449-870383', 'chr1:898356-899127',\n",
      "       'chr1:903617-907386',\n",
      "       ...\n",
      "       'GL000219.1:125214-125653', 'KI270721.1:2341-2736',\n",
      "       'KI270726.1:27352-27794', 'KI270726.1:41529-42186',\n",
      "       'KI270713.1:4147-4624', 'KI270713.1:20444-22615',\n",
      "       'KI270713.1:27118-28927', 'KI270713.1:29485-30706',\n",
      "       'KI270713.1:31511-32072', 'KI270713.1:37129-37638'],\n",
      "      dtype='object', name='peaks', length=79386)\n"
     ]
    },
    {
     "name": "stderr",
     "output_type": "stream",
     "text": [
      "100%|██████████| 23/23 [07:27<00:00, 19.47s/it]\n"
     ]
    },
    {
     "name": "stdout",
     "output_type": "stream",
     "text": [
      "finish load TF_binding\n"
     ]
    }
   ],
   "execution_count": 3
  },
  {
   "metadata": {
    "ExecuteTime": {
     "end_time": "2025-07-09T04:48:36.055039Z",
     "start_time": "2025-07-09T04:48:35.406927Z"
    }
   },
   "cell_type": "code",
   "source": [
    "dataset_name = 'human_PBMC'\n",
    "cell_key = 'cell_type'\n",
    "batch_key = ''\n",
    "\n",
    "\n",
    "gex_data = anndata.read_h5ad(f'filter_data/{dataset_name}/RNA_filter.h5ad')\n",
    "atac_adata = anndata.read_h5ad(f'filter_data/{dataset_name}/ATAC_filter.h5ad')\n",
    "TF_adata = anndata.read_h5ad(f'filter_data/{dataset_name}/TF_filter.h5ad')\n",
    "\n",
    "TF_length = TF_adata.var.shape[0]\n",
    "\n",
    "mask_path = f'filter_data/{dataset_name}/TF_binding/TF_binding.txt'"
   ],
   "id": "a06cf9c759738cec",
   "outputs": [],
   "execution_count": 4
  },
  {
   "metadata": {
    "ExecuteTime": {
     "end_time": "2025-07-09T06:12:18.090358Z",
     "start_time": "2025-07-09T06:11:38.411726Z"
    }
   },
   "cell_type": "code",
   "source": [
    "model = scTFBridge.from_anndata(\n",
    "    gex_data,\n",
    "    atac_adata,\n",
    "    TF_adata,\n",
    "    mask_path,\n",
    "    batch_key='',\n",
    "    device=torch.device('cuda:7'),\n",
    ")\n",
    "model.fit(\n",
    "    [gex_data, atac_adata, TF_adata],\n",
    "    epochs=10\n",
    ")"
   ],
   "id": "e5e805e518a5af4b",
   "outputs": [
    {
     "name": "stdout",
     "output_type": "stream",
     "text": [
      "🔧 Initializing model from AnnData objects...\n",
      "  - RNA input features: 3000\n",
      "  - ATAC input features: 79386\n",
      "  - Latent dimension (from TFs): 128\n",
      "  - Loading TF-peak mask from: filter_data/human_PBMC/TF_binding/TF_binding.txt\n"
     ]
    },
    {
     "name": "stderr",
     "output_type": "stream",
     "text": [
      " UserWarning:/home/wfa/anaconda3/envs/new_env/lib/python3.12/site-packages/sctfbridge/model.py:400: Batch key '' not found in `rna_adata.obs`. Assuming a single batch (batch_dims=1).\n"
     ]
    },
    {
     "name": "stdout",
     "output_type": "stream",
     "text": [
      "✅ Model ready.\n",
      "🔥 Starting model training for up to 10 epochs...\n",
      "  - Using device: cuda:7\n",
      "  - Preparing datasets and data loaders...\n"
     ]
    },
    {
     "name": "stderr",
     "output_type": "stream",
     "text": [
      " UserWarning:/home/wfa/anaconda3/envs/new_env/lib/python3.12/site-packages/sctfbridge/model.py:852: batch_key not found or not defined. Using a single batch for all cells.\n"
     ]
    },
    {
     "name": "stdout",
     "output_type": "stream",
     "text": [
      "  - Splitting data: 7705 training samples, 1926 validation samples.\n"
     ]
    },
    {
     "name": "stderr",
     "output_type": "stream",
     "text": [
      "Epoch 10/10: 100%|██████████| 10/10 [00:32<00:00,  3.30s/epoch, train_loss=684887.8271, val_loss=549635.0205]\n"
     ]
    },
    {
     "name": "stdout",
     "output_type": "stream",
     "text": [
      "✅ Training finished successfully.\n"
     ]
    }
   ],
   "execution_count": 5
  },
  {
   "metadata": {
    "ExecuteTime": {
     "end_time": "2025-07-07T09:06:04.807134Z",
     "start_time": "2025-07-07T09:06:03.417774Z"
    }
   },
   "cell_type": "code",
   "source": "model.save('sctfbridge_model_1', overwrite=True)\n",
   "id": "dd5e9c32726bc5e4",
   "outputs": [
    {
     "name": "stdout",
     "output_type": "stream",
     "text": [
      "💾 Saving model to sctfbridge_model_1...\n",
      "✅ Model saved successfully.\n"
     ]
    }
   ],
   "execution_count": 7
  },
  {
   "metadata": {
    "ExecuteTime": {
     "end_time": "2025-07-07T09:06:44.036178Z",
     "start_time": "2025-07-07T09:06:41.788724Z"
    }
   },
   "cell_type": "code",
   "source": "new_model = scTFBridge.load('sctfbridge_model_1')\n",
   "id": "8a73a091041818ea",
   "outputs": [
    {
     "name": "stdout",
     "output_type": "stream",
     "text": [
      "🚀 Loading model from sctfbridge_model_1...\n",
      "  - Using device: cuda\n",
      "✅ Model loaded and ready for inference.\n"
     ]
    }
   ],
   "execution_count": 9
  },
  {
   "metadata": {
    "ExecuteTime": {
     "end_time": "2025-07-07T09:07:02.688952Z",
     "start_time": "2025-07-07T09:06:55.855876Z"
    }
   },
   "cell_type": "code",
   "source": [
    "output = new_model.get_embeddings(\n",
    "    [gex_data, atac_adata, TF_adata],\n",
    ")"
   ],
   "id": "7fad3a1d930075b4",
   "outputs": [
    {
     "name": "stdout",
     "output_type": "stream",
     "text": [
      "✨ Extracting latent embeddings from the model...\n",
      "  - Using device: cuda\n"
     ]
    },
    {
     "name": "stderr",
     "output_type": "stream",
     "text": [
      " UserWarning:/home/wfa/anaconda3/envs/new_env/lib/python3.12/site-packages/sctfbridge/model.py:984: batch_key not found or not defined. Using a single batch for all cells.\n",
      "100%|██████████| 76/76 [00:04<00:00, 18.51batch/s]\n"
     ]
    },
    {
     "name": "stdout",
     "output_type": "stream",
     "text": [
      "✅ Embeddings extracted successfully. Returning a dictionary of representations.\n"
     ]
    }
   ],
   "execution_count": 10
  },
  {
   "metadata": {
    "ExecuteTime": {
     "end_time": "2025-07-07T09:07:17.329136Z",
     "start_time": "2025-07-07T09:07:17.323663Z"
    }
   },
   "cell_type": "code",
   "source": "from sctfbridge.model import explain_TF2TG, explain_RE2TG, explain_DisLatent\n",
   "id": "f42eede15bbbd841",
   "outputs": [],
   "execution_count": 11
  },
  {
   "metadata": {
    "ExecuteTime": {
     "end_time": "2025-07-07T09:07:37.765616Z",
     "start_time": "2025-07-07T09:07:28.702444Z"
    }
   },
   "cell_type": "code",
   "source": [
    "output = explain_RE2TG(new_model,\n",
    "                       [gex_data, atac_adata, TF_adata],\n",
    "                       'human_PBMC',\n",
    "                       use_gene_list=gex_data.var.index[:10],\n",
    "                       cell_type='CD14 Mono',\n",
    "                       cell_key='cell_type',\n",
    "                       batch_key='',\n",
    "                       device=torch.device('cuda:7'),\n",
    "                       tf_binding_path=f'filter_data/{dataset_name}/TF_binding/')"
   ],
   "id": "6ad060e1e5a84838",
   "outputs": [
    {
     "name": "stdout",
     "output_type": "stream",
     "text": [
      "🔗 Starting RE-to-Target Gene (RE2TG) explanation for cell type: 'CD14 Mono'...\n",
      "  - Using device: cuda:7\n",
      "  - Filtering data for cell type: 'CD14 Mono'\n",
      "  - Preparing data loaders...\n",
      "  - Initializing explanation model (ATAC2RNA) and background samples...\n"
     ]
    },
    {
     "name": "stderr",
     "output_type": "stream",
     "text": [
      "  2%|▏         | 9/511 [00:00<00:00, 802.43batch/s]"
     ]
    },
    {
     "name": "stdout",
     "output_type": "stream",
     "text": [
      "  - Calculating attributions for 10 specified target genes...\n"
     ]
    },
    {
     "name": "stderr",
     "output_type": "stream",
     "text": [
      "\n"
     ]
    },
    {
     "name": "stdout",
     "output_type": "stream",
     "text": [
      "  - Aggregating SHAP values (Genes x Peaks)...\n",
      "  - Loading genomic locations and calculating RE-TSS distances...\n"
     ]
    },
    {
     "name": "stderr",
     "output_type": "stream",
     "text": [
      " SettingWithCopyWarning:/home/wfa/anaconda3/envs/new_env/lib/python3.12/site-packages/sctfbridge/model.py:1493: \n",
      "A value is trying to be set on a copy of a slice from a DataFrame.\n",
      "Try using .loc[row_indexer,col_indexer] = value instead\n",
      "\n",
      "See the caveats in the documentation: https://pandas.pydata.org/pandas-docs/stable/user_guide/indexing.html#returning-a-view-versus-a-copy\n",
      " SettingWithCopyWarning:/home/wfa/anaconda3/envs/new_env/lib/python3.12/site-packages/sctfbridge/model.py:1495: \n",
      "A value is trying to be set on a copy of a slice from a DataFrame.\n",
      "Try using .loc[row_indexer,col_indexer] = value instead\n",
      "\n",
      "See the caveats in the documentation: https://pandas.pydata.org/pandas-docs/stable/user_guide/indexing.html#returning-a-view-versus-a-copy\n",
      " SettingWithCopyWarning:/home/wfa/anaconda3/envs/new_env/lib/python3.12/site-packages/sctfbridge/model.py:1496: \n",
      "A value is trying to be set on a copy of a slice from a DataFrame\n",
      "\n",
      "See the caveats in the documentation: https://pandas.pydata.org/pandas-docs/stable/user_guide/indexing.html#returning-a-view-versus-a-copy\n"
     ]
    },
    {
     "name": "stdout",
     "output_type": "stream",
     "text": [
      "computing tss distance\n",
      "  - Merging SHAP scores with distance and expression data...\n",
      "✅ RE2TG explanation complete for 'CD14 Mono'. Returning DataFrame with integrated scores.\n"
     ]
    }
   ],
   "execution_count": 12
  },
  {
   "metadata": {
    "ExecuteTime": {
     "end_time": "2025-07-07T09:20:55.059715Z",
     "start_time": "2025-07-07T09:10:19.971250Z"
    }
   },
   "cell_type": "code",
   "source": [
    "TF_output = explain_TF2TG(new_model,\n",
    "                          [gex_data, atac_adata, TF_adata],\n",
    "                          cell_type='CD14 Mono',\n",
    "                          cell_key='cell_type',\n",
    "                          batch_key='',\n",
    "                          device=torch.device('cuda:7'),)"
   ],
   "id": "975f592a2efbdb8b",
   "outputs": [
    {
     "name": "stdout",
     "output_type": "stream",
     "text": [
      "🧬 Starting TF-to-Target Gene (TF2TG) explanation for cell type: 'CD14 Mono'...\n",
      "  - Using device: cuda:7\n",
      "  - Filtering data for cell type: 'CD14 Mono'\n",
      "  - Preparing data loaders...\n",
      "  - Initializing explanation model and background samples...\n"
     ]
    },
    {
     "name": "stderr",
     "output_type": "stream",
     "text": [
      "  4%|▎         | 19/511 [00:00<00:01, 305.04batch/s]"
     ]
    },
    {
     "name": "stdout",
     "output_type": "stream",
     "text": [
      "  - Calculating attributions for 3000 target genes. This may take a while...\n"
     ]
    },
    {
     "name": "stderr",
     "output_type": "stream",
     "text": [
      "\n"
     ]
    },
    {
     "name": "stdout",
     "output_type": "stream",
     "text": [
      "  - Aggregating results...\n",
      "✅ TF2TG explanation complete for 'CD14 Mono'. Returning mean absolute SHAP values (Genes x TFs).\n"
     ]
    }
   ],
   "execution_count": 13
  }
 ],
 "metadata": {
  "kernelspec": {
   "display_name": "Python 3",
   "language": "python",
   "name": "python3"
  },
  "language_info": {
   "codemirror_mode": {
    "name": "ipython",
    "version": 2
   },
   "file_extension": ".py",
   "mimetype": "text/x-python",
   "name": "python",
   "nbconvert_exporter": "python",
   "pygments_lexer": "ipython2",
   "version": "2.7.6"
  }
 },
 "nbformat": 4,
 "nbformat_minor": 5
}
